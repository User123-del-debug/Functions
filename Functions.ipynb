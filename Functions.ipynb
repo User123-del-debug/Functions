{
 "cells": [
  {
   "cell_type": "raw",
   "id": "fcf2841c-6c8a-4f6b-b04f-b7b92daf08cc",
   "metadata": {},
   "source": [
    "1) What is the difference between a function and a method in Python?\n",
    "- A function is a block of reusable code that performs a specific task. It is defined using the def keyword outside of a class.\n",
    "Examples: def greet(name):\n",
    "    return f\"Hello, {name}!\"\n",
    "\n",
    "print(greet(\"Alice\"))  # Output: Hello, Alice!\n",
    "\n",
    "Method: A method is a function that is defined inside a class and is associated with an object (or class itself, for class/static methods).\n",
    "Examples: class Greeter:\n",
    "    def greet(self, name):\n",
    "        return f\"Hello, {name}!\"\n",
    "\n",
    "greeter = Greeter()\n",
    "print(greeter.greet(\"Alice\"))  # Output: Hello, Alice!\n"
   ]
  },
  {
   "cell_type": "raw",
   "id": "f3ecf1d3-55f5-4e06-82bb-374bc6d5dfa5",
   "metadata": {},
   "source": [
    "2) Explain the concept of function arguments and parameters in Python ?\n",
    "- In Python, arguments and parameters are terms used when dealing with functions. Though often used interchangeably, they refer to different things depending on context:\n",
    "Example for parameters:\n",
    "def greet(name, greeting):  # ← 'name' and 'greeting' are parameters\n",
    "    return f\"{greeting}, {name}!\"\n",
    "\n",
    "Example for Arguments:\n",
    "Call-time concept\n",
    "\n",
    "These are the actual values you pass to the function when you call it.\n",
    "\n",
    "Example:\n",
    "python\n",
    "Copy\n",
    "Edit\n",
    "print(greet(\"Alice\", \"Hello\"))  # ← \"Alice\" and \"Hello\" are arguments\n",
    "\n"
   ]
  },
  {
   "cell_type": "raw",
   "id": "d3444faa-7e73-4718-8dec-f16b4f5ae96f",
   "metadata": {},
   "source": [
    "3) What are the different ways to define and call a function in Python?\n",
    "- Standard Function Definition\n",
    "- Lambda (Anonymous) Function\n",
    "- Function Inside Another Function (Nested Function).\n",
    "\n",
    "Different ways to call a function:\n",
    "- Direct Call\n",
    "- Using Positional Arguments\n",
    "-Using Keyword Arguments"
   ]
  },
  {
   "cell_type": "raw",
   "id": "897e810e-15c7-4f3a-8874-293afacee1cb",
   "metadata": {},
   "source": [
    "4)  What is the purpose of the `return` statement in a Python function?\n",
    "-  Send a Result Back to the Caller\n",
    "- End the Function's Execution\n",
    "- Return Multiple Values\n",
    "- Implicit Return of None"
   ]
  },
  {
   "cell_type": "raw",
   "id": "677fd40f-c3e6-4a83-812f-a2b3cc2ba802",
   "metadata": {},
   "source": [
    "5) What are iterators in Python and how do they differ from iterables?\n",
    "- An iterable is any Python object capable of returning its elements one at a time. To be iterable, an object must implement the __iter__() method.\n",
    "Example: my_list = [1, 2, 3]\n",
    "\n",
    "# This is an iterable\n",
    "for item in my_list:\n",
    "    print(item)\n",
    "An iterator is the actual object used to perform iteration. It keeps state and knows where it is during iteration. It implements both:\n",
    "\n",
    "__iter__() (returns itself)\n",
    "\n",
    "__next__() (returns the next item or raises StopIteration when done"
   ]
  },
  {
   "cell_type": "raw",
   "id": "42d633cd-850d-4ac4-a649-049287f44d4a",
   "metadata": {},
   "source": [
    "7. What are the advantages of using generators over regular functions?\n",
    "- Generators offer several important advantages over regular functions—especially when you're dealing with large data, performance-critical code, or streamed input/output.\n",
    "\n",
    "Here are the key benefits:\n",
    "- Memory Efficiency (Lazy Evaluation)\n",
    "Example: def gen_numbers():\n",
    "    for i in range(1_000_000):\n",
    "        yield i\n",
    "- Faster Startup Time\n",
    "- Simpler Code for Iterators\n",
    "- Infinite or Long Sequences."
   ]
  },
  {
   "cell_type": "raw",
   "id": "58231773-47db-4c6a-b31f-793e8c41982e",
   "metadata": {},
   "source": [
    "8) What is a lambda function in Python and when is it typically used?\n",
    "- A lambda function in Python is a small, anonymous function defined using the lambda keyword instead of def.\n",
    "Uses:\n",
    "names = [\"John\", \"Alice\", \"Bob\"]\n",
    "sorted_names = sorted(names, key=lambda name: len(name))\n",
    "print(sorted_names)  # ['Bob', 'John', 'Alice']\n",
    "\n",
    "nums = [1, 2, 3]\n",
    "squares = list(map(lambda x: x * x, nums))\n",
    "print(squares)  # [1, 4, 9]\n"
   ]
  },
  {
   "cell_type": "raw",
   "id": "bc3dea91-af16-4785-a22d-c5a684cabeef",
   "metadata": {},
   "source": [
    "9)  Explain the purpose and usage of the `map()` function in Python.\n",
    "- The map() function in Python is a built-in tool used to apply a given function to every item of an iterable (like a list or tuple) and return an iterator with the results.\n",
    "Purpose of map()\n",
    "To transform each element of an iterable by applying a function to it.\n",
    "\n",
    "It helps write concise and clean code for element-wise operations."
   ]
  },
  {
   "cell_type": "raw",
   "id": "4dc94431-247e-420a-b799-ad04895d164a",
   "metadata": {},
   "source": [
    "10)  What is the difference between `map()`, `reduce()`, and `filter()` functions in Python?\n",
    "- map(), reduce(), and filter() are all functional programming tools in Python that work with iterables, but they serve different purposes:\n",
    "Map()\n",
    "Purpose: Applies a given function to every item in one or more iterables, producing a new iterator of transformed items.\n",
    "\n",
    "\n",
    "filter()\n",
    "Purpose: Filters items from an iterable by applying a predicate function (a function that returns True or False) and returns only those for which the predicate is True.\n",
    "\n",
    "reduce()\n",
    "Purpose: Applies a function of two arguments cumulatively to the items of an iterable, reducing the iterable to a single value."
   ]
  },
  {
   "cell_type": "raw",
   "id": "47c36f1e-9864-4a4f-8207-a8ddc8d64b83",
   "metadata": {},
   "source": [
    "#PRACTICALS"
   ]
  },
  {
   "cell_type": "code",
   "execution_count": null,
   "id": "97876ad0-de27-40d9-b8a3-f8e22a143ccb",
   "metadata": {},
   "outputs": [],
   "source": [
    "1) Write a Python function that takes a list of numbers as input and returns the sum of all even numbers in\n",
    "the list."
   ]
  },
  {
   "cell_type": "code",
   "execution_count": 10,
   "id": "caa61b13-1500-4d80-a29d-9f627a89fde1",
   "metadata": {},
   "outputs": [
    {
     "name": "stdout",
     "output_type": "stream",
     "text": [
      "12\n"
     ]
    }
   ],
   "source": [
    "def sum_of_even_numbers(numbers):\n",
    "    \"\"\"\n",
    "    Returns the sum of all even numbers in the input list.\n",
    "\n",
    "    Parameters:\n",
    "    numbers (list): A list of integers.\n",
    "\n",
    "    Returns:\n",
    "    int: Sum of even integers in the list.\n",
    "    \"\"\"\n",
    "    return sum(num for num in numbers if num % 2 == 0)\n",
    "my_list = [1, 2, 3, 4, 5, 6]\n",
    "result = sum_of_even_numbers(my_list)\n",
    "print(result)"
   ]
  },
  {
   "cell_type": "raw",
   "id": "1791cfec-2332-455e-b1f7-1f03ea479a79",
   "metadata": {},
   "source": [
    "2) Create a Python function that accepts a string and returns the reverse of that string."
   ]
  },
  {
   "cell_type": "code",
   "execution_count": 9,
   "id": "864ab0ba-d397-4104-afd5-d0676fdfe2d2",
   "metadata": {},
   "outputs": [
    {
     "name": "stdout",
     "output_type": "stream",
     "text": [
      "olleh\n"
     ]
    }
   ],
   "source": [
    "def reverse_string(s):\n",
    "    \"\"\"\n",
    "    Returns the reverse of the input string.\n",
    "\n",
    "    Parameters:\n",
    "    s (str): The string to be reversed.\n",
    "\n",
    "    Returns:\n",
    "    str: The reversed string.\n",
    "    \"\"\"\n",
    "    return s[::-1]\n",
    "text = \"hello\"\n",
    "reversed_text = reverse_string(text)\n",
    "print(reversed_text)  \n"
   ]
  },
  {
   "cell_type": "raw",
   "id": "5ed79a59-c5c7-43dd-b21d-7e6ab6a3d1f7",
   "metadata": {},
   "source": [
    "3)  Implement a Python function that takes a list of integers and returns a new list containing the squares of\n",
    "each number."
   ]
  },
  {
   "cell_type": "code",
   "execution_count": 12,
   "id": "54cac8d9-a389-4146-bf89-8dc940122cc8",
   "metadata": {},
   "outputs": [
    {
     "name": "stdout",
     "output_type": "stream",
     "text": [
      "[1, 4, 9, 16]\n"
     ]
    }
   ],
   "source": [
    "def square_numbers(numbers):\n",
    "    \"\"\"\n",
    "    Returns a new list containing the squares of each number in the input list.\n",
    "\n",
    "    Parameters:\n",
    "    numbers (list): A list of integers.\n",
    "\n",
    "    Returns:\n",
    "    list: A list of squared integers.\n",
    "    \"\"\"\n",
    "    return [num ** 2 for num in numbers]\n",
    "\n",
    "my_list = [1, 2, 3, 4]\n",
    "squared_list = square_numbers(my_list)\n",
    "print(squared_list)  \n"
   ]
  },
  {
   "cell_type": "raw",
   "id": "5adaa0ad-c14a-4439-960b-733bdff85b84",
   "metadata": {},
   "source": [
    "4) Write a Python function that checks if a given number is prime or not from 1 to 200?"
   ]
  },
  {
   "cell_type": "code",
   "execution_count": 14,
   "id": "e2dd2d43-9e40-4b03-980e-35d3dbfedd55",
   "metadata": {},
   "outputs": [
    {
     "name": "stdout",
     "output_type": "stream",
     "text": [
      "True\n",
      "False\n",
      "True\n",
      "False\n"
     ]
    }
   ],
   "source": [
    "def is_prime(n):\n",
    "    \"\"\"\n",
    "    Checks if a number is prime between 1 and 200.\n",
    "\n",
    "    Parameters:\n",
    "    n (int): The number to check.\n",
    "\n",
    "    Returns:\n",
    "    bool: True if the number is prime, False otherwise.\n",
    "    \"\"\"\n",
    "    if n < 2 or n > 200:\n",
    "        return False  # Prime numbers are greater than 1 and within 1–200 range\n",
    "\n",
    "    for i in range(2, int(n ** 0.5) + 1):\n",
    "        if n % i == 0:\n",
    "            return False\n",
    "    return True\n",
    "\n",
    "print(is_prime(2))    # True\n",
    "print(is_prime(4))    # False\n",
    "print(is_prime(199))  # True\n",
    "print(is_prime(201))  # False (out of range)\n",
    "\n"
   ]
  },
  {
   "cell_type": "raw",
   "id": "df04ec3c-872c-47f1-b1be-95b65f118ea0",
   "metadata": {},
   "source": [
    "5)  Create an iterator class in Python that generates the Fibonacci sequence up to a specified number of\n",
    "terms.?"
   ]
  },
  {
   "cell_type": "code",
   "execution_count": 15,
   "id": "c66108aa-7eea-4f10-a33d-477e74133207",
   "metadata": {},
   "outputs": [
    {
     "name": "stdout",
     "output_type": "stream",
     "text": [
      "0 1 1 1 2 3 5 8 13 21 "
     ]
    }
   ],
   "source": [
    "class FibonacciIterator:\n",
    "    \"\"\"\n",
    "    Iterator class to generate Fibonacci sequence up to a specified number of terms.\n",
    "    \"\"\"\n",
    "\n",
    "    def __init__(self, max_terms):\n",
    "        self.max_terms = max_terms\n",
    "        self.count = 0\n",
    "        self.a, self.b = 0, 1\n",
    "\n",
    "    def __iter__(self):\n",
    "        return self\n",
    "\n",
    "    def __next__(self):\n",
    "        if self.count >= self.max_terms:\n",
    "            raise StopIteration\n",
    "        if self.count == 0:\n",
    "            self.count += 1\n",
    "            return 0\n",
    "        elif self.count == 1:\n",
    "            self.count += 1\n",
    "            return 1\n",
    "        else:\n",
    "            self.a, self.b = self.b, self.a + self.b\n",
    "            self.count += 1\n",
    "            return self.a\n",
    "\n",
    "fib = FibonacciIterator(10)\n",
    "for num in fib:\n",
    "    print(num, end=' ')\n",
    "\n"
   ]
  },
  {
   "cell_type": "raw",
   "id": "80a85ae5-cc4e-409d-b817-b8390a462aaa",
   "metadata": {},
   "source": [
    "6) Write a generator function in Python that yields the powers of 2 up to a given exponent?"
   ]
  },
  {
   "cell_type": "code",
   "execution_count": 16,
   "id": "d0190e76-6be7-4625-a7e3-2c3cf135ce79",
   "metadata": {},
   "outputs": [
    {
     "name": "stdout",
     "output_type": "stream",
     "text": [
      "1 2 4 8 16 32 "
     ]
    }
   ],
   "source": [
    "def powers_of_two(max_exponent):\n",
    "    \"\"\"\n",
    "    Generator that yields powers of 2 from 2^0 up to 2^max_exponent.\n",
    "\n",
    "    Parameters:\n",
    "    max_exponent (int): The highest exponent for which to yield 2^n.\n",
    "    \n",
    "    Yields:\n",
    "    int: The powers of 2 from 1 to 2**max_exponent.\n",
    "    \"\"\"\n",
    "    for exponent in range(max_exponent + 1):\n",
    "        yield 2 ** exponent\n",
    "for power in powers_of_two(5):\n",
    "    print(power, end=' ')\n",
    "\n"
   ]
  },
  {
   "cell_type": "raw",
   "id": "b89fc741-226f-4912-ba8f-2ed99ccd509d",
   "metadata": {},
   "source": [
    "7) Implement a generator function that reads a file line by line and yields each line as a string."
   ]
  },
  {
   "cell_type": "code",
   "execution_count": 20,
   "id": "b864b0fd-f84c-41b5-86fd-f7a0c65b57cc",
   "metadata": {},
   "outputs": [
    {
     "ename": "IndentationError",
     "evalue": "expected an indented block after 'for' statement on line 15 (1119110949.py, line 16)",
     "output_type": "error",
     "traceback": [
      "\u001b[1;36m  Cell \u001b[1;32mIn[20], line 16\u001b[1;36m\u001b[0m\n\u001b[1;33m    print(line)\u001b[0m\n\u001b[1;37m    ^\u001b[0m\n\u001b[1;31mIndentationError\u001b[0m\u001b[1;31m:\u001b[0m expected an indented block after 'for' statement on line 15\n"
     ]
    }
   ],
   "source": [
    "def read_file_line_by_line(file_path):\n",
    "    \"\"\"\n",
    "    Generator that reads a file line by line.\n",
    "\n",
    "    Parameters:\n",
    "    file_path (str): Path to the file to be read.\n",
    "\n",
    "    Yields:\n",
    "    str: Each line in the file as a string.\n",
    "    \"\"\"\n",
    "    with open(file_path, 'r') as file:\n",
    "        for line in file:\n",
    "            yield line.rstrip('\\n')  # Removes trailing newline character\n",
    "\n",
    "for line in read_file_line_by_line('example.txt'):\n",
    "print(line)\n"
   ]
  },
  {
   "cell_type": "raw",
   "id": "0264de5c-dc02-4cce-bbd5-71d4b21efe73",
   "metadata": {},
   "source": [
    "8) Use a lambda function in Python to sort a list of tuples based on the second element of each tuple?"
   ]
  },
  {
   "cell_type": "code",
   "execution_count": 21,
   "id": "55e615af-b64c-4ef3-9ef8-e25de1d06531",
   "metadata": {},
   "outputs": [
    {
     "name": "stdout",
     "output_type": "stream",
     "text": [
      "[(4, 1), (3, 2), (1, 3), (2, 5)]\n"
     ]
    }
   ],
   "source": [
    "# Sample list of tuples\n",
    "data = [(1, 3), (4, 1), (2, 5), (3, 2)]\n",
    "\n",
    "# Sort by the second element in each tuple\n",
    "sorted_data = sorted(data, key=lambda x: x[1])\n",
    "\n",
    "print(sorted_data)\n"
   ]
  },
  {
   "cell_type": "code",
   "execution_count": null,
   "id": "5819c419-466c-46e6-a4ad-ab05b21c64ea",
   "metadata": {},
   "outputs": [],
   "source": [
    "9) Write a Python program that uses `map()` to convert a list of temperatures from Celsius to Fahrenheit?"
   ]
  },
  {
   "cell_type": "code",
   "execution_count": 22,
   "id": "4fe246f2-ca8d-4cde-b7ed-f25e63080dcd",
   "metadata": {},
   "outputs": [
    {
     "name": "stdout",
     "output_type": "stream",
     "text": [
      "Celsius: [0, 10, 20, 30, 40, 100]\n",
      "Fahrenheit: [32.0, 50.0, 68.0, 86.0, 104.0, 212.0]\n"
     ]
    }
   ],
   "source": [
    "# Function to convert Celsius to Fahrenheit\n",
    "def celsius_to_fahrenheit(c):\n",
    "    return (c * 9/5) + 32\n",
    "\n",
    "# List of temperatures in Celsius\n",
    "celsius_temps = [0, 10, 20, 30, 40, 100]\n",
    "\n",
    "# Use map to apply the conversion function to each element\n",
    "fahrenheit_temps = list(map(celsius_to_fahrenheit, celsius_temps))\n",
    "\n",
    "# Print the result\n",
    "print(\"Celsius:\", celsius_temps)\n",
    "print(\"Fahrenheit:\", fahrenheit_temps)\n",
    "\n"
   ]
  },
  {
   "cell_type": "raw",
   "id": "d83852d5-0102-4024-875d-b798420efc44",
   "metadata": {},
   "source": [
    "10) Create a Python program that uses `filter()` to remove all the vowels from a given string.?"
   ]
  },
  {
   "cell_type": "code",
   "execution_count": 23,
   "id": "da62c787-a5ca-4951-81b2-477823d16207",
   "metadata": {},
   "outputs": [
    {
     "name": "stdout",
     "output_type": "stream",
     "text": [
      "Original: Hello, World!\n",
      "Without vowels: Hll, Wrld!\n"
     ]
    }
   ],
   "source": [
    "def remove_vowels(input_str):\n",
    "    \"\"\"\n",
    "    Removes all vowels from the input string using filter().\n",
    "\n",
    "    Parameters:\n",
    "    input_str (str): The string to process.\n",
    "\n",
    "    Returns:\n",
    "    str: String with vowels removed.\n",
    "    \"\"\"\n",
    "    vowels = 'aeiouAEIOU'\n",
    "    return ''.join(filter(lambda char: char not in vowels, input_str))\n",
    "\n",
    "# Example usage\n",
    "text = \"Hello, World!\"\n",
    "no_vowels = remove_vowels(text)\n",
    "\n",
    "print(\"Original:\", text)\n",
    "print(\"Without vowels:\", no_vowels)\n"
   ]
  },
  {
   "cell_type": "code",
   "execution_count": null,
   "id": "8242ea0a-7caf-4168-a0c4-27888a068dcb",
   "metadata": {},
   "outputs": [],
   "source": []
  }
 ],
 "metadata": {
  "kernelspec": {
   "display_name": "Python 3 (ipykernel)",
   "language": "python",
   "name": "python3"
  },
  "language_info": {
   "codemirror_mode": {
    "name": "ipython",
    "version": 3
   },
   "file_extension": ".py",
   "mimetype": "text/x-python",
   "name": "python",
   "nbconvert_exporter": "python",
   "pygments_lexer": "ipython3",
   "version": "3.12.7"
  }
 },
 "nbformat": 4,
 "nbformat_minor": 5
}
